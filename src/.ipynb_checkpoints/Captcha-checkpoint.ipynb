{
 "cells": [
  {
   "cell_type": "code",
   "execution_count": 1,
   "metadata": {},
   "outputs": [],
   "source": [
    "import numpy as np\n",
    "from matplotlib.pyplot import imshow\n",
    "import cv2\n",
    "import glob\n",
    "import os\n",
    "import imutils\n",
    "from PIL import Image, ImageEnhance, ImageFilter, ImageOps\n",
    "from sklearn.model_selection import train_test_split"
   ]
  },
  {
   "cell_type": "code",
   "execution_count": 2,
   "metadata": {},
   "outputs": [
    {
     "ename": "NameError",
     "evalue": "name 'filename' is not defined",
     "output_type": "error",
     "traceback": [
      "\u001b[0;31m---------------------------------------------------------------------------\u001b[0m",
      "\u001b[0;31mNameError\u001b[0m                                 Traceback (most recent call last)",
      "\u001b[0;32m<ipython-input-2-fac275e649f7>\u001b[0m in \u001b[0;36m<module>\u001b[0;34m\u001b[0m\n\u001b[1;32m     11\u001b[0m \u001b[0;31m# imshow(np.asarray(image_list[0]))\u001b[0m\u001b[0;34m\u001b[0m\u001b[0;34m\u001b[0m\u001b[0;34m\u001b[0m\u001b[0m\n\u001b[1;32m     12\u001b[0m \u001b[0;34m\u001b[0m\u001b[0m\n\u001b[0;32m---> 13\u001b[0;31m \u001b[0;32mfor\u001b[0m \u001b[0mfile\u001b[0m \u001b[0;32min\u001b[0m \u001b[0mglob\u001b[0m\u001b[0;34m.\u001b[0m\u001b[0mglob\u001b[0m\u001b[0;34m(\u001b[0m\u001b[0mfilename\u001b[0m\u001b[0;34m)\u001b[0m\u001b[0;34m:\u001b[0m\u001b[0;34m\u001b[0m\u001b[0;34m\u001b[0m\u001b[0m\n\u001b[0m\u001b[1;32m     14\u001b[0m     \u001b[0mimage\u001b[0m \u001b[0;34m=\u001b[0m \u001b[0mImage\u001b[0m\u001b[0;34m.\u001b[0m\u001b[0mopen\u001b[0m\u001b[0;34m(\u001b[0m\u001b[0mfile\u001b[0m\u001b[0;34m)\u001b[0m\u001b[0;34m.\u001b[0m\u001b[0mconvert\u001b[0m\u001b[0;34m(\u001b[0m\u001b[0;34m\"L\"\u001b[0m\u001b[0;34m)\u001b[0m\u001b[0;34m\u001b[0m\u001b[0;34m\u001b[0m\u001b[0m\n\u001b[1;32m     15\u001b[0m     \u001b[0mimage_list\u001b[0m\u001b[0;34m.\u001b[0m\u001b[0mappend\u001b[0m\u001b[0;34m(\u001b[0m\u001b[0mimage\u001b[0m\u001b[0;34m)\u001b[0m\u001b[0;34m\u001b[0m\u001b[0;34m\u001b[0m\u001b[0m\n",
      "\u001b[0;31mNameError\u001b[0m: name 'filename' is not defined"
     ]
    }
   ],
   "source": [
    "image_list = []\n",
    "image_name_list = []\n",
    "\n",
    "for file in glob.glob(\"../data/Imagens/*\"):\n",
    "    image = Image.open(file).convert(\"L\")\n",
    "    image_list.append(image)\n",
    "    \n",
    "    image_name = os.path.split(os.path.splitext(file)[0])[1]\n",
    "    image_name_list.append(image_name)\n",
    "    \n",
    "# imshow(np.asarray(image_list[0]))\n",
    "\n",
    "for file in glob.glob(filename):\n",
    "    image = Image.open(file).convert(\"L\")\n",
    "    image_list.append(image)\n",
    "\n",
    "imshow(np.asarray(image_list[-1]))\n",
    "print(len(image_list))"
   ]
  },
  {
   "cell_type": "code",
   "execution_count": null,
   "metadata": {},
   "outputs": [],
   "source": [
    "pil_image_list = []\n",
    "\n",
    "%matplotlib inline\n",
    "for image in image_list:\n",
    "    enhancer = ImageEnhance.Contrast(image)\n",
    "    enhancer = enhancer.enhance(1.0)\n",
    "    pixel_matrix = image.load()\n",
    "    \n",
    "    # create threshold\n",
    "    for column in range(0, image.height):\n",
    "        for row in range(0, image.width):\n",
    "            if pixel_matrix[row, column] != 0:\n",
    "                pixel_matrix[row, column] = 255\n",
    "\n",
    "    # stray line and pixel removal\n",
    "    for column in range(1, image.height - 1):\n",
    "        for row in range(1, image.width - 1):\n",
    "            if pixel_matrix[row, column] == 0 \\\n",
    "                and pixel_matrix[row, column - 1] == 255 and pixel_matrix[row, column + 1] == 255:\n",
    "                pixel_matrix[row, column] = 255\n",
    "            if pixel_matrix[row, column] == 0 \\\n",
    "                and pixel_matrix[row - 1, column] == 255 and pixel_matrix[row + 1, column] == 255:\n",
    "                pixel_matrix[row, column] = 255\n",
    "    pil_image_list.append(image)                \n",
    "    \n",
    "imshow(np.asarray(pil_image_list[0]))"
   ]
  },
  {
   "cell_type": "code",
   "execution_count": 166,
   "metadata": {},
   "outputs": [
    {
     "name": "stdout",
     "output_type": "stream",
     "text": [
      "(34, 200, 3)\n",
      "(34, 200, 3)\n",
      "(34, 200, 3)\n",
      "(34, 200, 3)\n",
      "(34, 200, 3)\n",
      "(34, 200, 3)\n",
      "(34, 200, 3)\n",
      "(34, 200, 3)\n",
      "(34, 200, 3)\n",
      "(34, 200, 3)\n",
      "(34, 200, 3)\n",
      "(34, 200, 3)\n",
      "(34, 200, 3)\n",
      "(34, 200, 3)\n",
      "(34, 200, 3)\n",
      "(34, 200, 3)\n",
      "(34, 200, 3)\n",
      "(34, 200, 3)\n",
      "(34, 200, 3)\n",
      "(34, 200, 3)\n",
      "(34, 200, 3)\n",
      "(34, 200, 3)\n",
      "(34, 200, 3)\n",
      "(34, 200, 3)\n",
      "(34, 200, 3)\n",
      "(34, 200, 3)\n",
      "(34, 200, 3)\n",
      "(34, 200, 3)\n",
      "(34, 200, 3)\n",
      "(34, 200, 3)\n",
      "(34, 200, 3)\n",
      "(34, 200, 3)\n",
      "(34, 200, 3)\n",
      "(34, 200, 3)\n",
      "(34, 200, 3)\n",
      "(34, 200, 3)\n",
      "(34, 200, 3)\n",
      "(34, 200, 3)\n",
      "(34, 200, 3)\n",
      "(34, 200, 3)\n",
      "(34, 200, 3)\n",
      "(34, 200, 3)\n",
      "(34, 200, 3)\n",
      "(34, 200, 3)\n",
      "(34, 200, 3)\n",
      "(34, 200, 3)\n",
      "(34, 200, 3)\n",
      "(34, 200, 3)\n",
      "(34, 200, 3)\n",
      "(34, 200, 3)\n",
      "(34, 200, 3)\n",
      "(34, 200, 3)\n",
      "(34, 200, 3)\n",
      "(34, 200, 3)\n",
      "(34, 200, 3)\n",
      "(34, 200, 3)\n",
      "(34, 200, 3)\n",
      "(34, 200, 3)\n",
      "(34, 200, 3)\n",
      "(34, 200, 3)\n",
      "(34, 200, 3)\n",
      "(34, 200, 3)\n",
      "(34, 200, 3)\n",
      "(34, 200, 3)\n",
      "(34, 200, 3)\n",
      "(34, 200, 3)\n",
      "(34, 200, 3)\n",
      "(34, 200, 3)\n",
      "(34, 200, 3)\n",
      "(34, 200, 3)\n",
      "(34, 200, 3)\n",
      "(34, 200, 3)\n",
      "(34, 200, 3)\n",
      "(34, 200, 3)\n",
      "(34, 200, 3)\n",
      "(34, 200, 3)\n",
      "(34, 200, 3)\n",
      "(34, 200, 3)\n",
      "(34, 200, 3)\n",
      "(34, 200, 3)\n",
      "(34, 200, 3)\n",
      "(34, 200, 3)\n",
      "(34, 200, 3)\n",
      "(34, 200, 3)\n",
      "(34, 200, 3)\n",
      "(34, 200, 3)\n",
      "(34, 200, 3)\n",
      "(34, 200, 3)\n",
      "(34, 200, 3)\n",
      "(34, 200, 3)\n",
      "(34, 200, 3)\n",
      "(34, 200, 3)\n",
      "(34, 200, 3)\n",
      "(34, 200, 3)\n",
      "(34, 200, 3)\n",
      "(34, 200, 3)\n",
      "(34, 200, 3)\n",
      "(34, 200, 3)\n",
      "(34, 200, 3)\n",
      "(34, 200, 3)\n",
      "(34, 200, 3)\n",
      "(34, 200, 3)\n",
      "(34, 200, 3)\n",
      "(34, 200, 3)\n",
      "(34, 200, 3)\n",
      "(34, 200, 3)\n",
      "(34, 200, 3)\n",
      "(34, 200, 3)\n",
      "(34, 200, 3)\n",
      "(34, 200, 3)\n",
      "(34, 200, 3)\n",
      "(34, 200, 3)\n",
      "(34, 200, 3)\n",
      "(34, 200, 3)\n",
      "(34, 200, 3)\n",
      "(34, 200, 3)\n",
      "(34, 200, 3)\n",
      "(34, 200, 3)\n",
      "(34, 200, 3)\n",
      "(34, 200, 3)\n",
      "(34, 200, 3)\n",
      "(34, 200, 3)\n",
      "(34, 200, 3)\n",
      "(34, 200, 3)\n",
      "(34, 200, 3)\n",
      "(34, 200, 3)\n",
      "(34, 200, 3)\n",
      "(34, 200, 3)\n",
      "(34, 200, 3)\n",
      "(34, 200, 3)\n",
      "(34, 200, 3)\n",
      "(34, 200, 3)\n",
      "(34, 200, 3)\n",
      "(34, 200, 3)\n",
      "(34, 200, 3)\n",
      "(34, 200, 3)\n",
      "(34, 200, 3)\n",
      "(34, 200, 3)\n",
      "(34, 200, 3)\n",
      "(34, 200, 3)\n",
      "(34, 200, 3)\n",
      "(34, 200, 3)\n",
      "(34, 200, 3)\n",
      "(34, 200, 3)\n",
      "(34, 200, 3)\n",
      "(34, 200, 3)\n",
      "(34, 200, 3)\n",
      "(34, 200, 3)\n",
      "(34, 200, 3)\n",
      "(34, 200, 3)\n",
      "(34, 200, 3)\n",
      "(34, 200, 3)\n",
      "(34, 200, 3)\n",
      "(34, 200, 3)\n",
      "(34, 200, 3)\n",
      "(34, 200, 3)\n",
      "(34, 200, 3)\n",
      "(34, 200, 3)\n",
      "(34, 200, 3)\n",
      "(34, 200, 3)\n",
      "(34, 200, 3)\n",
      "(34, 200, 3)\n",
      "(34, 200, 3)\n",
      "(34, 200, 3)\n",
      "(34, 200, 3)\n",
      "(34, 200, 3)\n",
      "(34, 200, 3)\n",
      "(34, 200, 3)\n",
      "(34, 200, 3)\n",
      "(34, 200, 3)\n",
      "(34, 200, 3)\n",
      "(34, 200, 3)\n",
      "(34, 200, 3)\n",
      "(34, 200, 3)\n",
      "(34, 200, 3)\n",
      "(34, 200, 3)\n",
      "(34, 200, 3)\n",
      "(34, 200, 3)\n",
      "(34, 200, 3)\n",
      "(34, 200, 3)\n",
      "(34, 200, 3)\n",
      "(34, 200, 3)\n",
      "(34, 200, 3)\n",
      "(34, 200, 3)\n",
      "(34, 200, 3)\n",
      "(34, 200, 3)\n",
      "(34, 200, 3)\n",
      "(34, 200, 3)\n",
      "(34, 200, 3)\n",
      "(34, 200, 3)\n",
      "(34, 200, 3)\n",
      "(34, 200, 3)\n",
      "(34, 200, 3)\n",
      "(34, 200, 3)\n",
      "(34, 200, 3)\n",
      "(34, 200, 3)\n",
      "(34, 200, 3)\n",
      "(34, 200, 3)\n",
      "(34, 200, 3)\n",
      "(34, 200, 3)\n",
      "(34, 200, 3)\n",
      "(34, 200, 3)\n",
      "(34, 200, 3)\n",
      "(34, 200, 3)\n",
      "(34, 200, 3)\n"
     ]
    },
    {
     "data": {
      "text/plain": [
       "<matplotlib.image.AxesImage at 0x7f96eccc94a8>"
      ]
     },
     "execution_count": 166,
     "metadata": {},
     "output_type": "execute_result"
    },
    {
     "data": {
      "image/png": "[encoded data removed]",
      "text/plain": [
       "<Figure size 432x288 with 1 Axes>"
      ]
     },
     "metadata": {
      "needs_background": "light"
     },
     "output_type": "display_data"
    }
   ],
   "source": [
    "image_cv_list = []\n",
    "\n",
    "for image in pil_image_list:\n",
    "    image = np.array(image)\n",
    "    image = cv2.cvtColor(image, cv2.COLOR_GRAY2BGR)\n",
    "    (h, w) = image.shape[:2]\n",
    "    if w > h:\n",
    "        image = imutils.resize(image, width=200)\n",
    "\n",
    "        # otherwise, the height is greater than the width so resize\n",
    "        # along the height\n",
    "    else:\n",
    "        image = imutils.resize(image, height=200)\n",
    "    print(image.shape)\n",
    "    padW = int(10)\n",
    "    padH = int(10)\n",
    "    image = cv2.copyMakeBorder(image, padH, padH, padW, padW,\n",
    "            cv2.BORDER_CONSTANT, value=(255, 255, 255, 255))\n",
    "    image = cv2.resize(image, None, fx=10, fy=10, interpolation=cv2.INTER_LINEAR)\n",
    "    \n",
    "    image_cv = np.array(image)\n",
    "    image_cv_list.append(image)\n",
    "\n",
    "imshow(image_cv_list[0])"
   ]
  },
  {
   "cell_type": "code",
   "execution_count": 167,
   "metadata": {},
   "outputs": [
    {
     "data": {
      "text/plain": [
       "<matplotlib.image.AxesImage at 0x7f96ecbbc438>"
      ]
     },
     "execution_count": 167,
     "metadata": {},
     "output_type": "execute_result"
    },
    {
     "data": {
      "image/png": "[encoded data removed]",
      "text/plain": [
       "<Figure size 432x288 with 1 Axes>"
      ]
     },
     "metadata": {
      "needs_background": "light"
     },
     "output_type": "display_data"
    }
   ],
   "source": [
    "imshow(image_cv_list[5])"
   ]
  },
  {
   "cell_type": "code",
   "execution_count": 173,
   "metadata": {},
   "outputs": [
    {
     "data": {
      "text/plain": [
       "<matplotlib.image.AxesImage at 0x7f96ec17e4a8>"
      ]
     },
     "execution_count": 173,
     "metadata": {},
     "output_type": "execute_result"
    },
    {
     "data": {
      "image/png": "[encoded data removed]",
      "text/plain": [
       "<Figure size 432x288 with 1 Axes>"
      ]
     },
     "metadata": {
      "needs_background": "light"
     },
     "output_type": "display_data"
    }
   ],
   "source": [
    "threshold_image_list = []\n",
    "\n",
    "for image in image_cv_list:\n",
    "    \n",
    "    # crop image\n",
    "    crop = image\n",
    "\n",
    "    (rows, cols, depth) = crop.shape\n",
    "\n",
    "    color = 255 * 3\n",
    "\n",
    "    for row in range(rows):\n",
    "        for col in range(cols):\n",
    "            pixel = crop[row][col]\n",
    "            (r, g, b) = pixel.tolist()\n",
    "\n",
    "            if color > (r + g + b):\n",
    "                color = r + g + b\n",
    "\n",
    "    for row in range(rows):\n",
    "        for col in range(cols):\n",
    "            pixel = crop[row][col]\n",
    "            (r, g, b) = pixel.tolist()\n",
    "            c = (r + g + b)\n",
    "\n",
    "            if c != color:\n",
    "                crop[row][col] = (255, 255, 255)\n",
    "\n",
    "            else:\n",
    "                crop[row][col] = (0, 0, 0)\n",
    "                \n",
    "#     image = cv2.resize(crop, None, fx=15, fy=15, interpolation=cv2.INTER_LINEAR)\n",
    "    image = cv2.fastNlMeansDenoising(crop, None, 50, 3, 30)\n",
    "    image = cv2.threshold(image, 128, 255, cv2.THRESH_TRUNC)[1]\n",
    "    image = cv2.resize(image, None, fx=15, fy=15, interpolation=cv2.INTER_LINEAR)\n",
    "    image = cv2.medianBlur(image, 5)\n",
    "    image = cv2.threshold(image, 128, 255, cv2.THRESH_TRUNC)[1]\n",
    "                \n",
    "    threshold_image_list.append(image)\n",
    "    \n",
    "imshow(threshold_image_list[0])"
   ]
  },
  {
   "cell_type": "code",
   "execution_count": 174,
   "metadata": {},
   "outputs": [
    {
     "data": {
      "text/plain": [
       "<matplotlib.image.AxesImage at 0x7f970c204748>"
      ]
     },
     "execution_count": 174,
     "metadata": {},
     "output_type": "execute_result"
    },
    {
     "data": {
      "image/png": "[encoded data removed]",
      "text/plain": [
       "<Figure size 432x288 with 1 Axes>"
      ]
     },
     "metadata": {
      "needs_background": "light"
     },
     "output_type": "display_data"
    }
   ],
   "source": [
    "imshow(threshold_image_list[10])"
   ]
  },
  {
   "cell_type": "code",
   "execution_count": 177,
   "metadata": {},
   "outputs": [],
   "source": [
    "resized_image_list = []\n",
    "\n",
    "scale_percent = 10 # percent of original size\n",
    "# width = int(threshold_image_list[0].shape[1] * scale_percent / 100)\n",
    "# height = int(threshold_image_list[0].shape[0] * scale_percent / 100)\n",
    "width = 175\n",
    "height = 30\n",
    "dim = (width, height)\n",
    "for image in threshold_image_list:\n",
    "    image = cv2.cvtColor(image, cv2.COLOR_RGB2GRAY)\n",
    "    img = cv2.resize(image, dim, interpolation=cv2.INTER_LINEAR)\n",
    "    blackwhite = cv2.threshold(img, 127, 255, cv2.THRESH_BINARY | cv2.THRESH_OTSU)\n",
    "    resized_image_list.append(blackwhite[1])"
   ]
  },
  {
   "cell_type": "code",
   "execution_count": 181,
   "metadata": {},
   "outputs": [
    {
     "data": {
      "text/plain": [
       "<matplotlib.image.AxesImage at 0x7f96ecddc7b8>"
      ]
     },
     "execution_count": 181,
     "metadata": {},
     "output_type": "execute_result"
    },
    {
     "data": {
      "image/png": "[encoded data removed]",
      "text/plain": [
       "<Figure size 432x288 with 1 Axes>"
      ]
     },
     "metadata": {
      "needs_background": "light"
     },
     "output_type": "display_data"
    }
   ],
   "source": [
    "imshow(resized_image_list[12])"
   ]
  },
  {
   "cell_type": "code",
   "execution_count": 140,
   "metadata": {},
   "outputs": [
    {
     "name": "stdout",
     "output_type": "stream",
     "text": [
      "[(2, 0, 23, 24), (24, 0, 23, 24), (48, 0, 23, 24), (72, 0, 23, 24), (96, 0, 23, 24), (120, 0, 23, 24)]\n"
     ]
    },
    {
     "data": {
      "image/png": "[encoded data removed]",
      "text/plain": [
       "<Figure size 432x288 with 1 Axes>"
      ]
     },
     "metadata": {
      "needs_background": "light"
     },
     "output_type": "display_data"
    }
   ],
   "source": [
    "import skimage.measure\n",
    "import skimage.color\n",
    "\n",
    "letters_list = []\n",
    "\n",
    "(labels, total) = skimage.measure.label(resized_image_list[-1], background=0, return_num=True, connectivity=2)\n",
    "\n",
    "images = [np.uint8(labels==i) * 255 for i in range(total) if np.uint8(labels==i).sum() > 10]\n",
    "\n",
    "img = skimage.color.label2rgb(labels, bg_color=[1,1,1])\n",
    "color = (0.0, 1.0, 0.0)\n",
    "\n",
    "for i in range(6):\n",
    "    contours = cv2.findContours(resized_image_list[-1].copy(), cv2.RETR_EXTERNAL, cv2.CHAIN_APPROX_SIMPLE)\n",
    "\n",
    "    (x, y, w, h) = cv2.boundingRect(contours[0])\n",
    "\n",
    "    half_width = int(w/6)\n",
    "    if i == 0:\n",
    "        img = cv2.rectangle(img, (x+2,y), (x+half_width+2, y+h), color, 1)\n",
    "        letters_list.append((x+2, y, half_width, h))\n",
    "    else:\n",
    "        img = cv2.rectangle(img, (i*(half_width+1),y), ((i+1)*(half_width+1), y+h), color, 1)\n",
    "        letters_list.append((i*(half_width+1), y, half_width, h))\n",
    "\n",
    "imshow((img*255).astype(np.uint8))\n",
    "print(letters_list)"
   ]
  },
  {
   "cell_type": "code",
   "execution_count": 141,
   "metadata": {
    "scrolled": true
   },
   "outputs": [
    {
     "name": "stdout",
     "output_type": "stream",
     "text": [
      "[(0, 0, 1553, 676), (1553, 0, 1553, 676)]\n"
     ]
    }
   ],
   "source": [
    "contours_image_list = []\n",
    "\n",
    "for image in threshold_image_list:\n",
    "    gray = cv2.cvtColor(image, cv2.COLOR_BGR2GRAY)\n",
    "    gray = cv2.copyMakeBorder(gray, 8, 8, 8, 8, cv2.BORDER_REPLICATE)\n",
    "    thresh = cv2.threshold(gray, 128, 255, cv2.THRESH_TRUNC)[1]\n",
    "    # imshow(thresh)\n",
    "\n",
    "    letter_image_regions = []\n",
    "\n",
    "    contours = cv2.findContours(thresh.copy(), cv2.RETR_EXTERNAL, cv2.CHAIN_APPROX_SIMPLE)\n",
    "    contours = contours[0] if imutils.is_cv2() else contours[1]\n",
    "\n",
    "    for contour in contours:\n",
    "        (x, y, w, h) = cv2.boundingRect(contour)\n",
    "\n",
    "        if ((w / h) > 1.25):\n",
    "            half_width = int(w/2)\n",
    "            letter_image_regions.append((x, y, half_width, h))\n",
    "            letter_image_regions.append((x + half_width, y, half_width, h))\n",
    "        else:\n",
    "            letter_image_regions.append((x, y, w, h))\n",
    "print(letter_image_regions)\n",
    "#     contours_image_list.append(cv2.drawContours(thresh, contours, -1, (0,255,0), 3))\n"
   ]
  },
  {
   "cell_type": "code",
   "execution_count": 142,
   "metadata": {},
   "outputs": [],
   "source": [
    "jorge = []\n",
    "for i in resized_image_list[:-1]:\n",
    "    image = np.expand_dims(i, axis=2)\n",
    "    jorge.append(image)\n",
    "data = np.array(jorge, dtype=\"float\") / 255.0\n",
    "labels = np.array(image_name_list)\n",
    "(x_train, x_test, y_train, y_test) = train_test_split(data, labels, test_size=0.50, random_state=0)"
   ]
  },
  {
   "cell_type": "code",
   "execution_count": 143,
   "metadata": {},
   "outputs": [
    {
     "name": "stdout",
     "output_type": "stream",
     "text": [
      "(204, 24, 140, 1)\n",
      "(204,)\n"
     ]
    }
   ],
   "source": [
    "print(data.shape)\n",
    "print(labels.shape)"
   ]
  },
  {
   "cell_type": "code",
   "execution_count": 144,
   "metadata": {},
   "outputs": [],
   "source": [
    "from sklearn.preprocessing import LabelBinarizer\n",
    "\n",
    "lb = LabelBinarizer().fit(y_train)\n",
    "y_train = lb.transform(y_train)\n",
    "y_test = lb.transform(y_test)"
   ]
  },
  {
   "cell_type": "code",
   "execution_count": 145,
   "metadata": {
    "scrolled": true
   },
   "outputs": [],
   "source": [
    "import pickle\n",
    "MODEL_LABELS_FILENAME = \"model_labels.dat\"\n",
    "\n",
    "with open(MODEL_LABELS_FILENAME, \"wb\") as f:\n",
    "    pickle.dump(lb, f)\n"
   ]
  },
  {
   "cell_type": "code",
   "execution_count": 146,
   "metadata": {},
   "outputs": [],
   "source": [
    "MODEL_FILENAME = \"captcha_model.hdf5\""
   ]
  },
  {
   "cell_type": "code",
   "execution_count": 148,
   "metadata": {},
   "outputs": [
    {
     "name": "stdout",
     "output_type": "stream",
     "text": [
      "Train on 102 samples, validate on 102 samples\n",
      "Epoch 1/100\n",
      "102/102 [==============================] - 1s 9ms/step - loss: 5.1568 - accuracy: 0.0000e+00 - val_loss: 0.0000e+00 - val_accuracy: 0.0000e+00\n",
      "Epoch 2/100\n",
      "102/102 [==============================] - 1s 7ms/step - loss: 4.6247 - accuracy: 0.0196 - val_loss: 0.0000e+00 - val_accuracy: 0.0000e+00\n",
      "Epoch 3/100\n",
      "102/102 [==============================] - 1s 6ms/step - loss: 4.6036 - accuracy: 0.0882 - val_loss: 0.0000e+00 - val_accuracy: 0.0000e+00\n",
      "Epoch 4/100\n",
      "102/102 [==============================] - 1s 7ms/step - loss: 4.5499 - accuracy: 0.0784 - val_loss: 0.0000e+00 - val_accuracy: 0.0000e+00\n",
      "Epoch 5/100\n",
      "102/102 [==============================] - 0s 5ms/step - loss: 4.4460 - accuracy: 0.2549 - val_loss: 0.0000e+00 - val_accuracy: 0.0000e+00\n",
      "Epoch 6/100\n",
      "102/102 [==============================] - 0s 5ms/step - loss: 4.2727 - accuracy: 0.0686 - val_loss: 0.0000e+00 - val_accuracy: 0.0000e+00\n",
      "Epoch 7/100\n",
      "102/102 [==============================] - 0s 5ms/step - loss: 3.9745 - accuracy: 0.1471 - val_loss: 0.0000e+00 - val_accuracy: 0.0000e+00\n",
      "Epoch 8/100\n",
      "102/102 [==============================] - 0s 5ms/step - loss: 3.5654 - accuracy: 0.3137 - val_loss: 0.0000e+00 - val_accuracy: 0.0000e+00\n",
      "Epoch 9/100\n",
      "102/102 [==============================] - 1s 6ms/step - loss: 2.8822 - accuracy: 0.6569 - val_loss: 0.0000e+00 - val_accuracy: 0.0000e+00\n",
      "Epoch 10/100\n",
      "102/102 [==============================] - 0s 5ms/step - loss: 2.0266 - accuracy: 0.7647 - val_loss: 0.0000e+00 - val_accuracy: 0.0000e+00\n",
      "Epoch 11/100\n",
      "102/102 [==============================] - 0s 5ms/step - loss: 1.1650 - accuracy: 0.9314 - val_loss: 0.0000e+00 - val_accuracy: 0.0000e+00\n",
      "Epoch 12/100\n",
      "102/102 [==============================] - 1s 6ms/step - loss: 0.5463 - accuracy: 0.9706 - val_loss: 0.0000e+00 - val_accuracy: 0.0000e+00\n",
      "Epoch 13/100\n",
      "102/102 [==============================] - 0s 5ms/step - loss: 0.1587 - accuracy: 0.9902 - val_loss: 0.0000e+00 - val_accuracy: 0.0000e+00\n",
      "Epoch 14/100\n",
      "102/102 [==============================] - 0s 5ms/step - loss: 0.0970 - accuracy: 0.9902 - val_loss: 0.0000e+00 - val_accuracy: 0.0098\n",
      "Epoch 15/100\n",
      "102/102 [==============================] - 0s 5ms/step - loss: 0.0387 - accuracy: 1.0000 - val_loss: 0.0000e+00 - val_accuracy: 0.0000e+00\n",
      "Epoch 16/100\n",
      "102/102 [==============================] - 0s 5ms/step - loss: 0.0226 - accuracy: 1.0000 - val_loss: 0.0000e+00 - val_accuracy: 0.0000e+00\n",
      "Epoch 17/100\n",
      "102/102 [==============================] - 0s 5ms/step - loss: 0.0130 - accuracy: 1.0000 - val_loss: 0.0000e+00 - val_accuracy: 0.0098\n",
      "Epoch 18/100\n",
      "102/102 [==============================] - 0s 5ms/step - loss: 0.0062 - accuracy: 1.0000 - val_loss: 0.0000e+00 - val_accuracy: 0.0196\n",
      "Epoch 19/100\n",
      "102/102 [==============================] - 0s 5ms/step - loss: 0.0036 - accuracy: 1.0000 - val_loss: 0.0000e+00 - val_accuracy: 0.0196\n",
      "Epoch 20/100\n",
      "102/102 [==============================] - 0s 5ms/step - loss: 0.0020 - accuracy: 1.0000 - val_loss: 0.0000e+00 - val_accuracy: 0.0196\n",
      "Epoch 21/100\n",
      "102/102 [==============================] - 0s 5ms/step - loss: 0.0013 - accuracy: 1.0000 - val_loss: 0.0000e+00 - val_accuracy: 0.0098\n",
      "Epoch 22/100\n",
      "102/102 [==============================] - 1s 5ms/step - loss: 9.9744e-04 - accuracy: 1.0000 - val_loss: 0.0000e+00 - val_accuracy: 0.0098\n",
      "Epoch 23/100\n",
      "102/102 [==============================] - 1s 6ms/step - loss: 7.8851e-04 - accuracy: 1.0000 - val_loss: 0.0000e+00 - val_accuracy: 0.0098\n",
      "Epoch 24/100\n",
      "102/102 [==============================] - 1s 6ms/step - loss: 6.5434e-04 - accuracy: 1.0000 - val_loss: 0.0000e+00 - val_accuracy: 0.0098\n",
      "Epoch 25/100\n",
      "102/102 [==============================] - 0s 5ms/step - loss: 5.6266e-04 - accuracy: 1.0000 - val_loss: 0.0000e+00 - val_accuracy: 0.0098\n",
      "Epoch 26/100\n",
      "102/102 [==============================] - 1s 6ms/step - loss: 4.9675e-04 - accuracy: 1.0000 - val_loss: 0.0000e+00 - val_accuracy: 0.0098\n",
      "Epoch 27/100\n",
      "102/102 [==============================] - 0s 5ms/step - loss: 4.3872e-04 - accuracy: 1.0000 - val_loss: 0.0000e+00 - val_accuracy: 0.0098\n",
      "Epoch 28/100\n",
      "102/102 [==============================] - 0s 5ms/step - loss: 3.9426e-04 - accuracy: 1.0000 - val_loss: 0.0000e+00 - val_accuracy: 0.0098\n",
      "Epoch 29/100\n",
      "102/102 [==============================] - 0s 5ms/step - loss: 3.6181e-04 - accuracy: 1.0000 - val_loss: 0.0000e+00 - val_accuracy: 0.0098\n",
      "Epoch 30/100\n",
      "102/102 [==============================] - 0s 5ms/step - loss: 3.3537e-04 - accuracy: 1.0000 - val_loss: 0.0000e+00 - val_accuracy: 0.0098\n",
      "Epoch 31/100\n",
      "102/102 [==============================] - 0s 5ms/step - loss: 3.1227e-04 - accuracy: 1.0000 - val_loss: 0.0000e+00 - val_accuracy: 0.0098\n",
      "Epoch 32/100\n",
      "102/102 [==============================] - 0s 5ms/step - loss: 2.9348e-04 - accuracy: 1.0000 - val_loss: 0.0000e+00 - val_accuracy: 0.0098\n",
      "Epoch 33/100\n",
      "102/102 [==============================] - 0s 5ms/step - loss: 2.7656e-04 - accuracy: 1.0000 - val_loss: 0.0000e+00 - val_accuracy: 0.0098\n",
      "Epoch 34/100\n",
      "102/102 [==============================] - 1s 7ms/step - loss: 2.6010e-04 - accuracy: 1.0000 - val_loss: 0.0000e+00 - val_accuracy: 0.0098\n",
      "Epoch 35/100\n",
      "102/102 [==============================] - 1s 5ms/step - loss: 2.4792e-04 - accuracy: 1.0000 - val_loss: 0.0000e+00 - val_accuracy: 0.0098\n",
      "Epoch 36/100\n",
      "102/102 [==============================] - 0s 5ms/step - loss: 2.3488e-04 - accuracy: 1.0000 - val_loss: 0.0000e+00 - val_accuracy: 0.0098\n",
      "Epoch 37/100\n",
      "102/102 [==============================] - 0s 5ms/step - loss: 2.2327e-04 - accuracy: 1.0000 - val_loss: 0.0000e+00 - val_accuracy: 0.0098\n",
      "Epoch 38/100\n",
      "102/102 [==============================] - 1s 7ms/step - loss: 2.1361e-04 - accuracy: 1.0000 - val_loss: 0.0000e+00 - val_accuracy: 0.0196\n",
      "Epoch 39/100\n",
      "102/102 [==============================] - 1s 5ms/step - loss: 2.0501e-04 - accuracy: 1.0000 - val_loss: 0.0000e+00 - val_accuracy: 0.0196\n",
      "Epoch 40/100\n",
      "102/102 [==============================] - 0s 5ms/step - loss: 1.9679e-04 - accuracy: 1.0000 - val_loss: 0.0000e+00 - val_accuracy: 0.0196\n",
      "Epoch 41/100\n",
      "102/102 [==============================] - 0s 5ms/step - loss: 1.8832e-04 - accuracy: 1.0000 - val_loss: 0.0000e+00 - val_accuracy: 0.0196\n",
      "Epoch 42/100\n",
      "102/102 [==============================] - 1s 5ms/step - loss: 1.8047e-04 - accuracy: 1.0000 - val_loss: 0.0000e+00 - val_accuracy: 0.0196\n",
      "Epoch 43/100\n",
      "102/102 [==============================] - 1s 6ms/step - loss: 1.7358e-04 - accuracy: 1.0000 - val_loss: 0.0000e+00 - val_accuracy: 0.0196\n",
      "Epoch 44/100\n",
      "102/102 [==============================] - 0s 5ms/step - loss: 1.6713e-04 - accuracy: 1.0000 - val_loss: 0.0000e+00 - val_accuracy: 0.0196\n",
      "Epoch 45/100\n",
      "102/102 [==============================] - 0s 5ms/step - loss: 1.6087e-04 - accuracy: 1.0000 - val_loss: 0.0000e+00 - val_accuracy: 0.0196\n",
      "Epoch 46/100\n",
      "102/102 [==============================] - 0s 5ms/step - loss: 1.5514e-04 - accuracy: 1.0000 - val_loss: 0.0000e+00 - val_accuracy: 0.0196\n",
      "Epoch 47/100\n",
      "102/102 [==============================] - 0s 5ms/step - loss: 1.4905e-04 - accuracy: 1.0000 - val_loss: 0.0000e+00 - val_accuracy: 0.0196\n",
      "Epoch 48/100\n",
      "102/102 [==============================] - 0s 5ms/step - loss: 1.4346e-04 - accuracy: 1.0000 - val_loss: 0.0000e+00 - val_accuracy: 0.0196\n",
      "Epoch 49/100\n",
      "102/102 [==============================] - 0s 5ms/step - loss: 1.3882e-04 - accuracy: 1.0000 - val_loss: 0.0000e+00 - val_accuracy: 0.0196\n",
      "Epoch 50/100\n",
      "102/102 [==============================] - 1s 5ms/step - loss: 1.3384e-04 - accuracy: 1.0000 - val_loss: 0.0000e+00 - val_accuracy: 0.0196\n",
      "Epoch 51/100\n",
      "102/102 [==============================] - 1s 5ms/step - loss: 1.2915e-04 - accuracy: 1.0000 - val_loss: 0.0000e+00 - val_accuracy: 0.0196\n",
      "Epoch 52/100\n",
      "102/102 [==============================] - 0s 5ms/step - loss: 1.2483e-04 - accuracy: 1.0000 - val_loss: 0.0000e+00 - val_accuracy: 0.0196\n",
      "Epoch 53/100\n",
      "102/102 [==============================] - 0s 5ms/step - loss: 1.2098e-04 - accuracy: 1.0000 - val_loss: 0.0000e+00 - val_accuracy: 0.0196\n",
      "Epoch 54/100\n",
      "102/102 [==============================] - 0s 5ms/step - loss: 1.1720e-04 - accuracy: 1.0000 - val_loss: 0.0000e+00 - val_accuracy: 0.0196\n"
     ]
    },
    {
     "name": "stdout",
     "output_type": "stream",
     "text": [
      "Epoch 55/100\n",
      "102/102 [==============================] - 0s 5ms/step - loss: 1.1381e-04 - accuracy: 1.0000 - val_loss: 0.0000e+00 - val_accuracy: 0.0196\n",
      "Epoch 56/100\n",
      "102/102 [==============================] - 0s 5ms/step - loss: 1.1038e-04 - accuracy: 1.0000 - val_loss: 0.0000e+00 - val_accuracy: 0.0196\n",
      "Epoch 57/100\n",
      "102/102 [==============================] - 0s 5ms/step - loss: 1.0709e-04 - accuracy: 1.0000 - val_loss: 0.0000e+00 - val_accuracy: 0.0196\n",
      "Epoch 58/100\n",
      "102/102 [==============================] - 0s 5ms/step - loss: 1.0410e-04 - accuracy: 1.0000 - val_loss: 0.0000e+00 - val_accuracy: 0.0196\n",
      "Epoch 59/100\n",
      "102/102 [==============================] - 0s 5ms/step - loss: 1.0107e-04 - accuracy: 1.0000 - val_loss: 0.0000e+00 - val_accuracy: 0.0196\n",
      "Epoch 60/100\n",
      "102/102 [==============================] - 0s 5ms/step - loss: 9.8350e-05 - accuracy: 1.0000 - val_loss: 0.0000e+00 - val_accuracy: 0.0196\n",
      "Epoch 61/100\n",
      "102/102 [==============================] - 0s 5ms/step - loss: 9.5352e-05 - accuracy: 1.0000 - val_loss: 0.0000e+00 - val_accuracy: 0.0196\n",
      "Epoch 62/100\n",
      "102/102 [==============================] - 1s 5ms/step - loss: 9.2549e-05 - accuracy: 1.0000 - val_loss: 0.0000e+00 - val_accuracy: 0.0196\n",
      "Epoch 63/100\n",
      "102/102 [==============================] - 1s 5ms/step - loss: 9.0053e-05 - accuracy: 1.0000 - val_loss: 0.0000e+00 - val_accuracy: 0.0196\n",
      "Epoch 64/100\n",
      "102/102 [==============================] - 0s 5ms/step - loss: 8.7376e-05 - accuracy: 1.0000 - val_loss: 0.0000e+00 - val_accuracy: 0.0196\n",
      "Epoch 65/100\n",
      "102/102 [==============================] - 1s 5ms/step - loss: 8.4680e-05 - accuracy: 1.0000 - val_loss: 0.0000e+00 - val_accuracy: 0.0196\n",
      "Epoch 66/100\n",
      "102/102 [==============================] - 0s 5ms/step - loss: 8.2208e-05 - accuracy: 1.0000 - val_loss: 0.0000e+00 - val_accuracy: 0.0196\n",
      "Epoch 67/100\n",
      "102/102 [==============================] - 0s 5ms/step - loss: 8.0049e-05 - accuracy: 1.0000 - val_loss: 0.0000e+00 - val_accuracy: 0.0196\n",
      "Epoch 68/100\n",
      "102/102 [==============================] - 0s 5ms/step - loss: 7.7928e-05 - accuracy: 1.0000 - val_loss: 0.0000e+00 - val_accuracy: 0.0196\n",
      "Epoch 69/100\n",
      "102/102 [==============================] - 0s 5ms/step - loss: 7.5688e-05 - accuracy: 1.0000 - val_loss: 0.0000e+00 - val_accuracy: 0.0196\n",
      "Epoch 70/100\n",
      "102/102 [==============================] - 0s 5ms/step - loss: 7.3723e-05 - accuracy: 1.0000 - val_loss: 0.0000e+00 - val_accuracy: 0.0196\n",
      "Epoch 71/100\n",
      "102/102 [==============================] - 0s 5ms/step - loss: 7.1453e-05 - accuracy: 1.0000 - val_loss: 0.0000e+00 - val_accuracy: 0.0196\n",
      "Epoch 72/100\n",
      "102/102 [==============================] - 0s 5ms/step - loss: 6.9526e-05 - accuracy: 1.0000 - val_loss: 0.0000e+00 - val_accuracy: 0.0196\n",
      "Epoch 73/100\n",
      "102/102 [==============================] - 1s 5ms/step - loss: 6.7736e-05 - accuracy: 1.0000 - val_loss: 0.0000e+00 - val_accuracy: 0.0196\n",
      "Epoch 74/100\n",
      "102/102 [==============================] - 1s 5ms/step - loss: 6.5965e-05 - accuracy: 1.0000 - val_loss: 0.0000e+00 - val_accuracy: 0.0196\n",
      "Epoch 75/100\n",
      "102/102 [==============================] - 0s 5ms/step - loss: 6.4274e-05 - accuracy: 1.0000 - val_loss: 0.0000e+00 - val_accuracy: 0.0196\n",
      "Epoch 76/100\n",
      "102/102 [==============================] - 0s 5ms/step - loss: 6.2568e-05 - accuracy: 1.0000 - val_loss: 0.0000e+00 - val_accuracy: 0.0196\n",
      "Epoch 77/100\n",
      "102/102 [==============================] - 0s 5ms/step - loss: 6.1034e-05 - accuracy: 1.0000 - val_loss: 0.0000e+00 - val_accuracy: 0.0196\n",
      "Epoch 78/100\n",
      "102/102 [==============================] - 0s 5ms/step - loss: 5.9469e-05 - accuracy: 1.0000 - val_loss: 0.0000e+00 - val_accuracy: 0.0196\n",
      "Epoch 79/100\n",
      "102/102 [==============================] - 1s 5ms/step - loss: 5.8085e-05 - accuracy: 1.0000 - val_loss: 0.0000e+00 - val_accuracy: 0.0196\n",
      "Epoch 80/100\n",
      "102/102 [==============================] - 1s 5ms/step - loss: 5.6785e-05 - accuracy: 1.0000 - val_loss: 0.0000e+00 - val_accuracy: 0.0196\n",
      "Epoch 81/100\n",
      "102/102 [==============================] - 1s 5ms/step - loss: 5.5367e-05 - accuracy: 1.0000 - val_loss: 0.0000e+00 - val_accuracy: 0.0196\n",
      "Epoch 82/100\n",
      "102/102 [==============================] - 1s 5ms/step - loss: 5.3879e-05 - accuracy: 1.0000 - val_loss: 0.0000e+00 - val_accuracy: 0.0196\n",
      "Epoch 83/100\n",
      "102/102 [==============================] - 1s 5ms/step - loss: 5.2372e-05 - accuracy: 1.0000 - val_loss: 0.0000e+00 - val_accuracy: 0.0196\n",
      "Epoch 84/100\n",
      "102/102 [==============================] - 1s 6ms/step - loss: 5.1090e-05 - accuracy: 1.0000 - val_loss: 0.0000e+00 - val_accuracy: 0.0196\n",
      "Epoch 85/100\n",
      "102/102 [==============================] - 0s 5ms/step - loss: 4.9767e-05 - accuracy: 1.0000 - val_loss: 0.0000e+00 - val_accuracy: 0.0196\n",
      "Epoch 86/100\n",
      "102/102 [==============================] - 0s 5ms/step - loss: 4.8502e-05 - accuracy: 1.0000 - val_loss: 0.0000e+00 - val_accuracy: 0.0196\n",
      "Epoch 87/100\n",
      "102/102 [==============================] - 1s 5ms/step - loss: 4.7379e-05 - accuracy: 1.0000 - val_loss: 0.0000e+00 - val_accuracy: 0.0196\n",
      "Epoch 88/100\n",
      "102/102 [==============================] - 0s 5ms/step - loss: 4.6243e-05 - accuracy: 1.0000 - val_loss: 0.0000e+00 - val_accuracy: 0.0196\n",
      "Epoch 89/100\n",
      "102/102 [==============================] - 0s 5ms/step - loss: 4.5153e-05 - accuracy: 1.0000 - val_loss: 0.0000e+00 - val_accuracy: 0.0196\n",
      "Epoch 90/100\n",
      "102/102 [==============================] - 0s 5ms/step - loss: 4.4149e-05 - accuracy: 1.0000 - val_loss: 0.0000e+00 - val_accuracy: 0.0196\n",
      "Epoch 91/100\n",
      "102/102 [==============================] - 0s 5ms/step - loss: 4.3172e-05 - accuracy: 1.0000 - val_loss: 0.0000e+00 - val_accuracy: 0.0196\n",
      "Epoch 92/100\n",
      "102/102 [==============================] - 0s 5ms/step - loss: 4.2132e-05 - accuracy: 1.0000 - val_loss: 0.0000e+00 - val_accuracy: 0.0196\n",
      "Epoch 93/100\n",
      "102/102 [==============================] - 0s 5ms/step - loss: 4.1269e-05 - accuracy: 1.0000 - val_loss: 0.0000e+00 - val_accuracy: 0.0196\n",
      "Epoch 94/100\n",
      "102/102 [==============================] - 0s 5ms/step - loss: 4.0368e-05 - accuracy: 1.0000 - val_loss: 0.0000e+00 - val_accuracy: 0.0196\n",
      "Epoch 95/100\n",
      "102/102 [==============================] - 0s 5ms/step - loss: 3.9520e-05 - accuracy: 1.0000 - val_loss: 0.0000e+00 - val_accuracy: 0.0196\n",
      "Epoch 96/100\n",
      "102/102 [==============================] - 0s 5ms/step - loss: 3.8646e-05 - accuracy: 1.0000 - val_loss: 0.0000e+00 - val_accuracy: 0.0196\n",
      "Epoch 97/100\n",
      "102/102 [==============================] - 1s 5ms/step - loss: 3.7839e-05 - accuracy: 1.0000 - val_loss: 0.0000e+00 - val_accuracy: 0.0196\n",
      "Epoch 98/100\n",
      "102/102 [==============================] - 1s 5ms/step - loss: 3.7028e-05 - accuracy: 1.0000 - val_loss: 0.0000e+00 - val_accuracy: 0.0196\n",
      "Epoch 99/100\n",
      "102/102 [==============================] - 0s 5ms/step - loss: 3.6164e-05 - accuracy: 1.0000 - val_loss: 0.0000e+00 - val_accuracy: 0.0196\n",
      "Epoch 100/100\n",
      "102/102 [==============================] - 1s 5ms/step - loss: 3.5486e-05 - accuracy: 1.0000 - val_loss: 0.0000e+00 - val_accuracy: 0.0196\n"
     ]
    }
   ],
   "source": [
    "from keras.models import Sequential\n",
    "from keras.layers.convolutional import Conv2D, MaxPooling2D\n",
    "from keras.layers.core import Flatten, Dense\n",
    "\n",
    "model = Sequential()\n",
    "\n",
    "# First convolutional layer with max pooling\n",
    "model.add(Conv2D(20, (5, 5), padding=\"same\", input_shape=(24, 140, 1), activation=\"relu\"))\n",
    "model.add(MaxPooling2D(pool_size=(2, 2), strides=(2, 2)))\n",
    "\n",
    "# Second convolutional layer with max pooling\n",
    "model.add(Conv2D(50, (5, 5), padding=\"same\", activation=\"relu\"))\n",
    "model.add(MaxPooling2D(pool_size=(2, 2), strides=(2, 2)))\n",
    "\n",
    "# Hidden layer with 500 nodes\n",
    "model.add(Flatten())\n",
    "model.add(Dense(500, activation=\"relu\"))\n",
    "\n",
    "# Output layer with 32 nodes (one for each possible letter/number we predict)\n",
    "model.add(Dense(102, activation=\"softmax\"))\n",
    "\n",
    "# Ask Keras to build the TensorFlow model behind the scenes\n",
    "model.compile(loss=\"categorical_crossentropy\", optimizer=\"adam\", metrics=[\"accuracy\"])\n",
    "\n",
    "# Train the neural network\n",
    "model.fit(x_train, y_train, validation_data=(x_test,y_test), batch_size=32, epochs=100, verbose=1)\n",
    "\n",
    "# Save the trained model to disk\n",
    "model.save(MODEL_FILENAME)"
   ]
  },
  {
   "cell_type": "code",
   "execution_count": 149,
   "metadata": {},
   "outputs": [],
   "source": [
    "from keras.models import load_model\n",
    "\n",
    "with open(MODEL_LABELS_FILENAME, \"rb\") as f:\n",
    "    lb = pickle.load(f)\n",
    "\n",
    "# Load the trained neural network\n",
    "model = load_model(MODEL_FILENAME)"
   ]
  },
  {
   "cell_type": "code",
   "execution_count": 150,
   "metadata": {},
   "outputs": [],
   "source": [
    "letter_image_regions = sorted(letters_list, key=lambda x: x[0])\n",
    "\n",
    "    # Create an output image and a list to hold our predicted letters\n",
    "image = resized_image_list[-1]\n",
    "output = cv2.merge([image] * 3)\n"
   ]
  },
  {
   "cell_type": "code",
   "execution_count": 151,
   "metadata": {},
   "outputs": [
    {
     "name": "stdout",
     "output_type": "stream",
     "text": [
      "(24, 140)\n",
      "CAPTCHA text is: b5p9cD\n"
     ]
    },
    {
     "data": {
      "image/png": "[encoded data removed]",
      "text/plain": [
       "<Figure size 432x288 with 1 Axes>"
      ]
     },
     "metadata": {
      "needs_background": "light"
     },
     "output_type": "display_data"
    }
   ],
   "source": [
    "predictions = []\n",
    "# for letter_bounding_box in letter_image_regions:\n",
    "#     # Grab the coordinates of the letter in the image\n",
    "#     x, y, w, h = letter_bounding_box\n",
    "\n",
    "#     # Extract the letter from the original image with a 2-pixel margin around the edge\n",
    "#     letter_image = image[y - 2:y + h + 2, x - 2:x + w + 2]\n",
    "    \n",
    "#     print(letter_image)\n",
    "\n",
    "#     # Turn the single image into a 4d list of images to make Keras happy\n",
    "#     letter_image = np.expand_dims(letter_image, axis=2)\n",
    "#     letter_image = np.expand_dims(letter_image, axis=0)\n",
    "\n",
    "#     # Ask the neural network to make a prediction\n",
    "#     prediction = model.predict(letter_image)\n",
    "\n",
    "#     # Convert the one-hot-encoded prediction back to a normal letter\n",
    "#     letter = lb.inverse_transform(prediction)[0]\n",
    "#     predictions.append(letter)\n",
    "\n",
    "#     # draw the prediction on the output image\n",
    "#     cv2.rectangle(output, (x - 2, y - 2), (x + w + 4, y + h + 4), (0, 255, 0), 1)\n",
    "#     cv2.putText(output, letter, (x - 5, y - 5), cv2.FONT_HERSHEY_SIMPLEX, 0.55, (0, 255, 0), 2)\n",
    "print(resized_image_list[-1].shape)\n",
    "imshow(resized_image_list[-1])\n",
    "letter_image = np.expand_dims(resized_image_list[-1], axis=2)\n",
    "letter_image = np.expand_dims(letter_image, axis=0)\n",
    "\n",
    "# Ask the neural network to make a prediction\n",
    "prediction = model.predict(letter_image)\n",
    "letter = lb.inverse_transform(prediction)[0]\n",
    "predictions.append(letter)\n",
    "\n",
    "# Print the captcha's text\n",
    "captcha_text = \"\".join(predictions)\n",
    "print(\"CAPTCHA text is: {}\".format(captcha_text))"
   ]
  },
  {
   "cell_type": "code",
   "execution_count": null,
   "metadata": {},
   "outputs": [],
   "source": []
  },
  {
   "cell_type": "code",
   "execution_count": null,
   "metadata": {},
   "outputs": [],
   "source": []
  }
 ],
 "metadata": {
  "kernelspec": {
   "display_name": "Python 3",
   "language": "python",
   "name": "python3"
  },
  "language_info": {
   "codemirror_mode": {
    "name": "ipython",
    "version": 3
   },
   "file_extension": ".py",
   "mimetype": "text/x-python",
   "name": "python",
   "nbconvert_exporter": "python",
   "pygments_lexer": "ipython3",
   "version": "3.7.3"
  }
 },
 "nbformat": 4,
 "nbformat_minor": 2
}
